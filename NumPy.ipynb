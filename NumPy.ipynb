{
 "cells": [
  {
   "cell_type": "raw",
   "id": "024e4829-80bf-4355-b894-13be4146cba0",
   "metadata": {},
   "source": [
    "Numpy is a library:\n",
    "It does both numerical and computational applications , data set\n",
    "EDA:Explorative Data Analysis\n",
    "30 features --> 30 columns(can use for loop coz less in number)\n",
    "10k observations --> 10k rows(can't use for loop coz more number in general for is iterative i.e., it checks one value after another)\n",
    "So for loop is not efficient that is the reaosn why we eliminate lists and tuples and use munpy library in python it gets things done fast."
   ]
  },
  {
   "cell_type": "raw",
   "id": "73972e22-7b67-46a1-8ec5-92c6e375bc1e",
   "metadata": {},
   "source": [
    "it creates multi dimensional array"
   ]
  },
  {
   "cell_type": "code",
   "execution_count": 1,
   "id": "4e1e0bfa-1583-45dd-95ea-77205c071474",
   "metadata": {},
   "outputs": [
    {
     "name": "stdout",
     "output_type": "stream",
     "text": [
      "Requirement already satisfied: numpy in c:\\users\\eshit\\appdata\\local\\programs\\python\\python312\\lib\\site-packages (2.1.3)\n"
     ]
    }
   ],
   "source": [
    "!pip install numpy\n",
    "import numpy as np"
   ]
  },
  {
   "cell_type": "code",
   "execution_count": 2,
   "id": "4d4a2e11-b030-49eb-9743-1ab70d9e2919",
   "metadata": {},
   "outputs": [
    {
     "name": "stdout",
     "output_type": "stream",
     "text": [
      "[10 20 30 40]\n"
     ]
    }
   ],
   "source": [
    "ar=np.array([10,20,30,40])\n",
    "print(ar)"
   ]
  },
  {
   "cell_type": "code",
   "execution_count": 3,
   "id": "de2267e5-02cb-4392-9db1-d3a9200bf00a",
   "metadata": {},
   "outputs": [
    {
     "data": {
      "text/plain": [
       "dtype('int64')"
      ]
     },
     "execution_count": 3,
     "metadata": {},
     "output_type": "execute_result"
    }
   ],
   "source": [
    "ar.dtype"
   ]
  },
  {
   "cell_type": "code",
   "execution_count": 4,
   "id": "2cb45b3c-63b5-4a7b-8c64-0363b490dc52",
   "metadata": {},
   "outputs": [
    {
     "data": {
      "text/plain": [
       "numpy.ndarray"
      ]
     },
     "execution_count": 4,
     "metadata": {},
     "output_type": "execute_result"
    }
   ],
   "source": [
    "type(ar)"
   ]
  },
  {
   "cell_type": "code",
   "execution_count": 5,
   "id": "92d5c61e-c07c-432a-8def-8cb5df77e8db",
   "metadata": {},
   "outputs": [
    {
     "name": "stdout",
     "output_type": "stream",
     "text": [
      "{}\n"
     ]
    }
   ],
   "source": [
    "ar_2=np.array({})\n",
    "print(ar_2)"
   ]
  },
  {
   "cell_type": "code",
   "execution_count": 6,
   "id": "9f096219-a162-4b64-9174-5e505dfab8ed",
   "metadata": {},
   "outputs": [
    {
     "data": {
      "text/plain": [
       "1"
      ]
     },
     "execution_count": 6,
     "metadata": {},
     "output_type": "execute_result"
    }
   ],
   "source": [
    "ar.ndim"
   ]
  },
  {
   "cell_type": "code",
   "execution_count": 7,
   "id": "0678991e-7bd0-46e5-a902-9cbc758a0b74",
   "metadata": {},
   "outputs": [
    {
     "name": "stdout",
     "output_type": "stream",
     "text": [
      "[[ 10 203  40]\n",
      " [ 34  67  56]\n",
      " [ 49  48  58]]\n"
     ]
    }
   ],
   "source": [
    "tarr=np.array([[10,203,40],[34,67,56],[49,48,58]])\n",
    "print(tarr)"
   ]
  },
  {
   "cell_type": "code",
   "execution_count": 8,
   "id": "e09c523a-580a-40f8-b151-55d12e4c5499",
   "metadata": {},
   "outputs": [
    {
     "data": {
      "text/plain": [
       "2"
      ]
     },
     "execution_count": 8,
     "metadata": {},
     "output_type": "execute_result"
    }
   ],
   "source": [
    "tarr.ndim"
   ]
  },
  {
   "cell_type": "code",
   "execution_count": 9,
   "id": "aa2426d4-cdbc-40aa-9387-781afb0a0d9f",
   "metadata": {},
   "outputs": [
    {
     "data": {
      "text/plain": [
       "(3, 3)"
      ]
     },
     "execution_count": 9,
     "metadata": {},
     "output_type": "execute_result"
    }
   ],
   "source": [
    "tarr.shape"
   ]
  },
  {
   "cell_type": "code",
   "execution_count": 10,
   "id": "28213c95-4c99-4a0b-a762-0fba77217368",
   "metadata": {},
   "outputs": [
    {
     "name": "stdout",
     "output_type": "stream",
     "text": [
      "[10 20 30 40]\n"
     ]
    }
   ],
   "source": [
    "print(ar)"
   ]
  },
  {
   "cell_type": "code",
   "execution_count": 11,
   "id": "73f69752-08a6-4025-ac76-5e29ac28fa27",
   "metadata": {},
   "outputs": [
    {
     "name": "stdout",
     "output_type": "stream",
     "text": [
      "[10, 20, 30, 40]\n"
     ]
    }
   ],
   "source": [
    "l=[10,20,30,40]\n",
    "print(l)"
   ]
  },
  {
   "cell_type": "code",
   "execution_count": 12,
   "id": "959e883a-8a2e-4b99-8dca-c402feedf9ac",
   "metadata": {},
   "outputs": [
    {
     "data": {
      "text/plain": [
       "[40, 60, 80, 100]"
      ]
     },
     "execution_count": 12,
     "metadata": {},
     "output_type": "execute_result"
    }
   ],
   "source": [
    "l1=[30,40,50,60]\n",
    "#zip(l,l1)\n",
    "lsum=[i+j for i,j in zip(l,l1)]\n",
    "lsum"
   ]
  },
  {
   "cell_type": "code",
   "execution_count": 13,
   "id": "321c0976-b591-4208-875c-7a4f12144010",
   "metadata": {},
   "outputs": [
    {
     "name": "stdout",
     "output_type": "stream",
     "text": [
      "[30 40 50 60]\n"
     ]
    }
   ],
   "source": [
    "ar2=np.array([30,40,50,60])\n",
    "print(ar2)"
   ]
  },
  {
   "cell_type": "code",
   "execution_count": 14,
   "id": "7b386745-8813-4642-800f-f37e62d0a566",
   "metadata": {},
   "outputs": [
    {
     "data": {
      "text/plain": [
       "[10, 20, 30, 40, 30, 40, 50, 60]"
      ]
     },
     "execution_count": 14,
     "metadata": {},
     "output_type": "execute_result"
    }
   ],
   "source": [
    "l+l1"
   ]
  },
  {
   "cell_type": "code",
   "execution_count": 15,
   "id": "c1a0da8b-3309-409e-8c7a-9bcdbebfc76f",
   "metadata": {},
   "outputs": [
    {
     "ename": "NameError",
     "evalue": "name 'ar1' is not defined",
     "output_type": "error",
     "traceback": [
      "\u001b[1;31m---------------------------------------------------------------------------\u001b[0m",
      "\u001b[1;31mNameError\u001b[0m                                 Traceback (most recent call last)",
      "Cell \u001b[1;32mIn[15], line 1\u001b[0m\n\u001b[1;32m----> 1\u001b[0m \u001b[43mar1\u001b[49m\u001b[38;5;241m+\u001b[39mar2\n",
      "\u001b[1;31mNameError\u001b[0m: name 'ar1' is not defined"
     ]
    }
   ],
   "source": [
    "ar1+ar2"
   ]
  },
  {
   "cell_type": "raw",
   "id": "e6e5b1f9-ea62-42cd-895a-06a87cf36dca",
   "metadata": {},
   "source": [
    "list consist any type of data whereas array list elements belongs to the same data type.\n",
    "\n",
    "numpy arrays are faster  as compared to lists.\n",
    "\n",
    "list in python is equivalent to array but reshaping and resizing is not allowed.\n",
    "\n",
    "numpy consumes less space for writing or storing program as compared to of list"
   ]
  },
  {
   "cell_type": "code",
   "execution_count": null,
   "id": "d9ca980d-50c9-4414-a99d-90c009b7b47a",
   "metadata": {},
   "outputs": [],
   "source": [
    "a=np.array([\"apple\",45,\"cat\",\"dog\"])\n",
    "print(a)\n",
    "a.dtype"
   ]
  },
  {
   "cell_type": "markdown",
   "id": "b2ea22f3-c833-41f0-b8ee-344e35bbd4dc",
   "metadata": {},
   "source": [
    "the above type means that it is unicode error.\n"
   ]
  },
  {
   "cell_type": "markdown",
   "id": "b39e1fb7-c479-48c0-85b4-9929f5511933",
   "metadata": {},
   "source": [
    "indexing and slicing"
   ]
  },
  {
   "cell_type": "code",
   "execution_count": null,
   "id": "b4d0ca43-554e-4341-802f-6d4ed86f513d",
   "metadata": {},
   "outputs": [],
   "source": [
    "print(ar)"
   ]
  },
  {
   "cell_type": "code",
   "execution_count": null,
   "id": "ee4810eb-5371-45bf-a3bb-6a598ca86f41",
   "metadata": {},
   "outputs": [],
   "source": [
    "print(ar[2])"
   ]
  },
  {
   "cell_type": "code",
   "execution_count": null,
   "id": "1c479d61-cfbf-4352-86c0-6b668333a13e",
   "metadata": {},
   "outputs": [],
   "source": [
    "print(tarr)"
   ]
  },
  {
   "cell_type": "code",
   "execution_count": null,
   "id": "b3ad1696-ea2d-403e-b78d-6555071faf2b",
   "metadata": {},
   "outputs": [],
   "source": [
    "print(tarr[1,2])"
   ]
  },
  {
   "cell_type": "code",
   "execution_count": 16,
   "id": "d2a6a2d0-4396-40fe-b7ad-5c7cc18e2876",
   "metadata": {},
   "outputs": [
    {
     "name": "stdout",
     "output_type": "stream",
     "text": [
      "[1.+0.j 2.+0.j 3.+0.j 4.+0.j 5.+0.j]\n"
     ]
    }
   ],
   "source": [
    "arc=np.array([1,2,3,4,5],dtype=\"complex\")\n",
    "print(arc)"
   ]
  },
  {
   "cell_type": "markdown",
   "id": "026dc190-5237-413e-93a0-56c6aa964765",
   "metadata": {},
   "source": [
    "# creating an array with the help of arrange method"
   ]
  },
  {
   "cell_type": "code",
   "execution_count": null,
   "id": "03daab5f-3151-40a7-b9ce-6ffd22221769",
   "metadata": {},
   "outputs": [],
   "source": [
    "#import numpy as np\n",
    "np.arange(1,11)"
   ]
  },
  {
   "cell_type": "code",
   "execution_count": null,
   "id": "d1f3c87a-f664-4a0b-a3d9-c1804c53ead5",
   "metadata": {},
   "outputs": [],
   "source": [
    "x=(np.arange(2,21,2))\n",
    "print(x)"
   ]
  },
  {
   "cell_type": "code",
   "execution_count": null,
   "id": "cd2fedeb-9313-429e-ac4a-2e4070792fee",
   "metadata": {},
   "outputs": [],
   "source": [
    "np.arange(31,52,3).reshape(7,1)"
   ]
  },
  {
   "cell_type": "code",
   "execution_count": null,
   "id": "691c9da8-ac05-49f3-aaf4-f9cea15e4960",
   "metadata": {},
   "outputs": [],
   "source": [
    "np.arange(1,7).reshape(-1,6)"
   ]
  },
  {
   "cell_type": "code",
   "execution_count": null,
   "id": "e025a80a-7955-49aa-a31b-f19b20ab3e23",
   "metadata": {},
   "outputs": [],
   "source": [
    "np.zeros((10,2),dtype=\"int\")"
   ]
  },
  {
   "cell_type": "code",
   "execution_count": null,
   "id": "0a576213-2b38-4db4-b145-2130481715f5",
   "metadata": {},
   "outputs": [],
   "source": [
    "np.ones((5,5))"
   ]
  },
  {
   "cell_type": "code",
   "execution_count": null,
   "id": "c8f4be76-faa8-4757-aea8-d48006c176cf",
   "metadata": {},
   "outputs": [],
   "source": [
    "np.random.seed(3)\n",
    "x=np.random.random((10,5))\n",
    "print (x)"
   ]
  },
  {
   "cell_type": "code",
   "execution_count": null,
   "id": "f854d1a2-6229-4df4-8cbc-ebbacc81b4c8",
   "metadata": {},
   "outputs": [],
   "source": [
    "np.random.randint(5,10,(5,10))"
   ]
  },
  {
   "cell_type": "code",
   "execution_count": null,
   "id": "66e09271-056b-46ee-ab35-97afa0521bae",
   "metadata": {},
   "outputs": [],
   "source": [
    "a1=np.arange(10)\n",
    "a2=np.arange(12,dtype=\"float\").reshape(3,4)\n",
    "a3=np.arange(8).reshape(2,2,2)"
   ]
  },
  {
   "cell_type": "code",
   "execution_count": null,
   "id": "aa76590f-7a37-49eb-9a6c-ca73df5e5d3d",
   "metadata": {},
   "outputs": [],
   "source": [
    "print(a1.size)\n",
    "print(a1)"
   ]
  },
  {
   "cell_type": "code",
   "execution_count": null,
   "id": "32519602-a0b9-4ce5-89c0-bd2f80712f92",
   "metadata": {},
   "outputs": [],
   "source": [
    "print(a2.shape)\n",
    "print(a2)"
   ]
  },
  {
   "cell_type": "code",
   "execution_count": null,
   "id": "3c448ad2-a3d6-40e4-b9ae-2f20ccdafc69",
   "metadata": {},
   "outputs": [],
   "source": [
    "print(a3.shape)\n",
    "print(a3)"
   ]
  },
  {
   "cell_type": "code",
   "execution_count": null,
   "id": "057aa69f-877b-460f-93d3-dd69652dc442",
   "metadata": {},
   "outputs": [],
   "source": [
    "pip install matplotlib"
   ]
  },
  {
   "cell_type": "code",
   "execution_count": null,
   "id": "28e714ee-5854-424e-9892-75083c3faf1d",
   "metadata": {},
   "outputs": [],
   "source": [
    "import numpy as np\n",
    "import matplotlib.pyplot as plt\n",
    "\n",
    "a3 = np.arange(8).reshape(2, 2, 2)\n",
    "\n",
    "fig, axes = plt.subplots(1, 2, figsize=(10, 5))\n",
    "\n",
    "# Visualize each 2D matrix in a3\n",
    "for i in range(2):\n",
    "    axes[i].matshow(a3[i], cmap='viridis')\n",
    "    axes[i].set_title(f'Matrix {i+1}')\n",
    "    for (j, k), val in np.ndenumerate(a3[i]):\n",
    "        axes[i].text(k, j, f'{val}', ha='center', va='center', color='white')\n",
    "\n",
    "plt.show()\n"
   ]
  },
  {
   "cell_type": "code",
   "execution_count": null,
   "id": "b171c0ec-f98b-4d3a-8012-6b296a85e46d",
   "metadata": {},
   "outputs": [],
   "source": [
    "a2>=15"
   ]
  },
  {
   "cell_type": "code",
   "execution_count": null,
   "id": "b36aae6c-7f23-4128-989a-19dc14f5ff18",
   "metadata": {},
   "outputs": [],
   "source": [
    "a4=np.arange(12,24).reshape(3,4)\n",
    "print(a4)"
   ]
  },
  {
   "cell_type": "code",
   "execution_count": 20,
   "id": "18c89d7c-df6f-4677-9a36-1486cb5ba18d",
   "metadata": {},
   "outputs": [
    {
     "name": "stdout",
     "output_type": "stream",
     "text": [
      "[[ 0.  1.  2.  3.]\n",
      " [ 4.  5.  6.  7.]\n",
      " [ 8.  9. 10. 11.]]\n"
     ]
    }
   ],
   "source": [
    "a2=np.arange(12,dtype=\"float\").reshape(3,4)\n",
    "print(a2)"
   ]
  },
  {
   "cell_type": "code",
   "execution_count": 21,
   "id": "7fb4409d-18da-46fb-8ac9-64959fe52169",
   "metadata": {},
   "outputs": [
    {
     "name": "stdout",
     "output_type": "stream",
     "text": [
      "[[ 0  1  2  3]\n",
      " [ 4  5  6  7]\n",
      " [ 8  9 10 11]]\n"
     ]
    }
   ],
   "source": [
    "a2=a2.astype(int)\n",
    "print(a2)"
   ]
  },
  {
   "cell_type": "code",
   "execution_count": null,
   "id": "d8270bd3-0283-495a-91a1-55970d12b211",
   "metadata": {},
   "outputs": [],
   "source": [
    "a2=a2*3\n",
    "print(a2)"
   ]
  },
  {
   "cell_type": "code",
   "execution_count": null,
   "id": "330eaade-87e8-41f7-86f2-1f2849fdd26a",
   "metadata": {},
   "outputs": [],
   "source": [
    "print(a2+a4)"
   ]
  },
  {
   "cell_type": "code",
   "execution_count": null,
   "id": "46a73ec8-5f1b-4705-b363-bc03ac6679ce",
   "metadata": {},
   "outputs": [],
   "source": [
    "print(a4-a2)"
   ]
  },
  {
   "cell_type": "markdown",
   "id": "7bf0ffb2-bb97-4eab-b892-0216d6d408d4",
   "metadata": {},
   "source": [
    "ARRAY FUNCTIONS"
   ]
  },
  {
   "cell_type": "code",
   "execution_count": 22,
   "id": "fd8b3952-df65-464a-a400-bf1eff627849",
   "metadata": {},
   "outputs": [
    {
     "name": "stdout",
     "output_type": "stream",
     "text": [
      "0\n"
     ]
    },
    {
     "name": "stderr",
     "output_type": "stream",
     "text": [
      "C:\\Users\\eshit\\AppData\\Local\\Temp\\ipykernel_13292\\183508572.py:1: DeprecationWarning: numpy.core.fromnumeric is deprecated and has been renamed to numpy._core.fromnumeric. The numpy._core namespace contains private NumPy internals and its use is discouraged, as NumPy internals can change without warning in any release. In practice, most real-world usage of numpy.core is to access functionality in the public NumPy API. If that is the case, use the public NumPy API. If not, you are using NumPy internals. If you would still like to access an internal attribute, use numpy._core.fromnumeric.prod.\n",
      "  from numpy.core.fromnumeric import prod\n"
     ]
    }
   ],
   "source": [
    "from numpy.core.fromnumeric import prod\n",
    "print(np.prod(a2))"
   ]
  },
  {
   "cell_type": "code",
   "execution_count": null,
   "id": "5fc36d52-0bab-40fd-8504-5b24195364d5",
   "metadata": {},
   "outputs": [],
   "source": [
    "print(np.prod(a4))"
   ]
  },
  {
   "cell_type": "code",
   "execution_count": 23,
   "id": "39cb699e-de4f-4cfc-94b2-32c24be94393",
   "metadata": {},
   "outputs": [
    {
     "name": "stdout",
     "output_type": "stream",
     "text": [
      "0\n"
     ]
    }
   ],
   "source": [
    "print(np.min(a2))"
   ]
  },
  {
   "cell_type": "code",
   "execution_count": null,
   "id": "ddc0c27e-5a25-48dc-b6b6-b630d958b7f6",
   "metadata": {},
   "outputs": [],
   "source": [
    "print(np.max(a2))"
   ]
  },
  {
   "cell_type": "code",
   "execution_count": null,
   "id": "9f97c2fd-eb75-4985-8db9-84a0b83031f8",
   "metadata": {},
   "outputs": [],
   "source": [
    "print(np.sum(a2))"
   ]
  },
  {
   "cell_type": "code",
   "execution_count": 26,
   "id": "f88a6430-49bf-44cb-815a-2a6fc97484bb",
   "metadata": {},
   "outputs": [
    {
     "name": "stdout",
     "output_type": "stream",
     "text": [
      "5.5\n"
     ]
    }
   ],
   "source": [
    "print(np.mean(a2))"
   ]
  },
  {
   "cell_type": "code",
   "execution_count": 27,
   "id": "d602581f-49ce-4315-b6a0-8d72046e6f62",
   "metadata": {},
   "outputs": [
    {
     "data": {
      "text/plain": [
       "array([1.5, 5.5, 9.5])"
      ]
     },
     "execution_count": 27,
     "metadata": {},
     "output_type": "execute_result"
    }
   ],
   "source": [
    "#finding mean across the rows\n",
    "np.mean(a2,axis=1)"
   ]
  },
  {
   "cell_type": "code",
   "execution_count": null,
   "id": "36716c5a-4615-4368-bb43-514db0d03967",
   "metadata": {},
   "outputs": [],
   "source": [
    "print(np.std(a2))"
   ]
  },
  {
   "cell_type": "code",
   "execution_count": null,
   "id": "85343fa5-7125-435f-ae96-4df7074642f4",
   "metadata": {},
   "outputs": [],
   "source": [
    "print(np.var(a2))"
   ]
  },
  {
   "cell_type": "code",
   "execution_count": 25,
   "id": "6faf7eb5-984d-4326-9e32-2c2d3a118eee",
   "metadata": {},
   "outputs": [],
   "source": [
    "mat=np.arange(12,24).reshape(4,3)\n"
   ]
  },
  {
   "cell_type": "code",
   "execution_count": null,
   "id": "dde7ac08-a2a8-4064-83df-f5a4c0cb203c",
   "metadata": {},
   "outputs": [],
   "source": [
    "print(np.dot(a2,mat))"
   ]
  },
  {
   "cell_type": "code",
   "execution_count": null,
   "id": "73ea5888-7d09-4f0d-bdbd-2ae8d45e133b",
   "metadata": {},
   "outputs": [],
   "source": [
    "#iterating over a matrix.\n",
    "for i in mat:\n",
    "    for j in i:\n",
    "        print(j)\n",
    "    #print(i)\n"
   ]
  },
  {
   "cell_type": "code",
   "execution_count": null,
   "id": "f94f540e-b45e-4069-94b4-68f34d69f611",
   "metadata": {},
   "outputs": [],
   "source": [
    "for i in np.nditer(mat):\n",
    "    print(i)\n",
    "      "
   ]
  },
  {
   "cell_type": "code",
   "execution_count": null,
   "id": "2c4b00e4-a810-426e-8ab1-9ee80ec449fe",
   "metadata": {},
   "outputs": [],
   "source": [
    "#conversion of 2d to 1d\n",
    "mat.ravel()"
   ]
  },
  {
   "cell_type": "code",
   "execution_count": null,
   "id": "c7ec0dfb-7814-445a-b89d-4fe0db73d8eb",
   "metadata": {},
   "outputs": [],
   "source": []
  }
 ],
 "metadata": {
  "kernelspec": {
   "display_name": "Python 3 (ipykernel)",
   "language": "python",
   "name": "python3"
  },
  "language_info": {
   "codemirror_mode": {
    "name": "ipython",
    "version": 3
   },
   "file_extension": ".py",
   "mimetype": "text/x-python",
   "name": "python",
   "nbconvert_exporter": "python",
   "pygments_lexer": "ipython3",
   "version": "3.12.4"
  }
 },
 "nbformat": 4,
 "nbformat_minor": 5
}
