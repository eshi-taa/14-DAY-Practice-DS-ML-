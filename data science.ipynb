{
 "cells": [
  {
   "cell_type": "code",
   "execution_count": 1,
   "id": "1715ce2f-e8f8-4073-b051-033cad5b2d72",
   "metadata": {},
   "outputs": [
    {
     "name": "stdout",
     "output_type": "stream",
     "text": [
      "hello world\n"
     ]
    }
   ],
   "source": [
    "print(\"hello world\")\n"
   ]
  },
  {
   "cell_type": "code",
   "execution_count": 2,
   "id": "42c467ea-fe1c-4047-b775-6b32e146b5a9",
   "metadata": {},
   "outputs": [
    {
     "ename": "SyntaxError",
     "evalue": "invalid syntax. Perhaps you forgot a comma? (3968750413.py, line 1)",
     "output_type": "error",
     "traceback": [
      "\u001b[1;36m  Cell \u001b[1;32mIn[2], line 1\u001b[1;36m\u001b[0m\n\u001b[1;33m    print(hellow orld)\u001b[0m\n\u001b[1;37m          ^\u001b[0m\n\u001b[1;31mSyntaxError\u001b[0m\u001b[1;31m:\u001b[0m invalid syntax. Perhaps you forgot a comma?\n"
     ]
    }
   ],
   "source": [
    "print(hellow orld)"
   ]
  },
  {
   "cell_type": "code",
   "execution_count": null,
   "id": "4414da36-7c29-4bbf-ad4e-d14779491e1e",
   "metadata": {},
   "outputs": [],
   "source": [
    "Print(\"hello world\")"
   ]
  },
  {
   "cell_type": "code",
   "execution_count": null,
   "id": "27052aed-cf03-4a96-85ef-740b66e9946e",
   "metadata": {},
   "outputs": [],
   "source": [
    "print(\"hello world\""
   ]
  },
  {
   "cell_type": "code",
   "execution_count": null,
   "id": "b9242895-1262-49e5-93b7-4f1fde333bf7",
   "metadata": {},
   "outputs": [],
   "source": [
    "print\"hello world\""
   ]
  },
  {
   "cell_type": "code",
   "execution_count": null,
   "id": "ac83b9c3-215a-49cb-91bd-c733a99dcc30",
   "metadata": {},
   "outputs": [],
   "source": [
    "2+-2"
   ]
  },
  {
   "cell_type": "code",
   "execution_count": null,
   "id": "f8ce2591-d7b6-4de1-9fcd-927c2e524576",
   "metadata": {},
   "outputs": [],
   "source": [
    "2++2\n"
   ]
  },
  {
   "cell_type": "code",
   "execution_count": null,
   "id": "e5346a19-2f15-42b4-b153-9733443de81f",
   "metadata": {},
   "outputs": [],
   "source": [
    "09"
   ]
  },
  {
   "cell_type": "code",
   "execution_count": null,
   "id": "14e7d955-4f97-4a38-92ee-f17007b60e75",
   "metadata": {},
   "outputs": [],
   "source": [
    "2 3"
   ]
  },
  {
   "cell_type": "code",
   "execution_count": null,
   "id": "754e04ca-d6a3-49e9-9138-c56a1bcc6209",
   "metadata": {},
   "outputs": [],
   "source": [
    "(42*60)+42"
   ]
  },
  {
   "cell_type": "code",
   "execution_count": null,
   "id": "79244eaf-1267-4cb4-b314-f645ddd648dd",
   "metadata": {},
   "outputs": [],
   "source": [
    "10/1.61"
   ]
  },
  {
   "cell_type": "code",
   "execution_count": null,
   "id": "69533ba2-67d0-4f41-a1d7-8bafdb1820c6",
   "metadata": {},
   "outputs": [],
   "source": [
    "'data'+'mining'"
   ]
  },
  {
   "cell_type": "code",
   "execution_count": null,
   "id": "ad4086a3-1164-4a59-a870-2433f7b567ab",
   "metadata": {},
   "outputs": [],
   "source": [
    "spam*5\n"
   ]
  },
  {
   "cell_type": "code",
   "execution_count": null,
   "id": "f01879db-7a83-44e3-9113-5af3479f32a9",
   "metadata": {},
   "outputs": [],
   "source": [
    "'spam'*5"
   ]
  },
  {
   "cell_type": "code",
   "execution_count": null,
   "id": "deb26c55-d85d-40ae-b031-227d24013927",
   "metadata": {},
   "outputs": [],
   "source": [
    "n=42"
   ]
  },
  {
   "cell_type": "code",
   "execution_count": null,
   "id": "b23ef472-5a16-4055-bab0-af8f1dfc0968",
   "metadata": {},
   "outputs": [],
   "source": [
    "42=n?"
   ]
  },
  {
   "cell_type": "code",
   "execution_count": null,
   "id": "2d86c751-57e5-40a8-b706-98be61e39557",
   "metadata": {},
   "outputs": [],
   "source": [
    "x=y=1"
   ]
  },
  {
   "cell_type": "code",
   "execution_count": null,
   "id": "a2e15211-c49c-432d-badd-9a8ba4277412",
   "metadata": {},
   "outputs": [],
   "source": [
    "print(x=y=1)"
   ]
  },
  {
   "cell_type": "code",
   "execution_count": null,
   "id": "4c61dbd3-a22a-4303-9221-f07109f77277",
   "metadata": {},
   "outputs": [],
   "source": [
    "n=42;"
   ]
  },
  {
   "cell_type": "code",
   "execution_count": null,
   "id": "0fa4ae5b-3c03-4804-84a1-9a3421b33799",
   "metadata": {},
   "outputs": [],
   "source": [
    "print(n);"
   ]
  },
  {
   "cell_type": "code",
   "execution_count": null,
   "id": "18c68a62-c01e-415f-9ea5-a8513b5abf9d",
   "metadata": {},
   "outputs": [],
   "source": [
    "print(n)."
   ]
  },
  {
   "cell_type": "code",
   "execution_count": null,
   "id": "8d4f7bc2-7a32-432d-9045-3c59237f1072",
   "metadata": {},
   "outputs": [],
   "source": [
    "x=5"
   ]
  },
  {
   "cell_type": "code",
   "execution_count": null,
   "id": "523ace96-54e9-4945-b273-686926cb2073",
   "metadata": {},
   "outputs": [],
   "source": [
    "y=4;"
   ]
  },
  {
   "cell_type": "code",
   "execution_count": null,
   "id": "fb2b83dc-0c57-494b-b90e-b5586b86c67a",
   "metadata": {},
   "outputs": [],
   "source": [
    "xy"
   ]
  },
  {
   "cell_type": "code",
   "execution_count": null,
   "id": "f81c8241-d548-432c-83ed-b522c33777b5",
   "metadata": {},
   "outputs": [],
   "source": [
    "help(math)"
   ]
  },
  {
   "cell_type": "code",
   "execution_count": null,
   "id": "d0dba76a-4cad-4bd9-aa40-d7b3c7ff734e",
   "metadata": {},
   "outputs": [],
   "source": [
    "import math\n",
    "help(math)"
   ]
  },
  {
   "cell_type": "code",
   "execution_count": null,
   "id": "f67b4df1-08b9-478a-be5b-a6612ee91210",
   "metadata": {},
   "outputs": [],
   "source": [
    "def print_lyrics():\n",
    "    print(\"romeo take me to somewhere we can be alone\")\n",
    "    print(\"you be the prince and i will be the princess \")\n",
    "    print(\"its a love story, BABY just say YES!\")\n",
    "\n",
    "print(print_lyrics)"
   ]
  },
  {
   "cell_type": "code",
   "execution_count": null,
   "id": "efc6b0ad-1af1-4552-9444-cafc58ec0f1a",
   "metadata": {},
   "outputs": [],
   "source": [
    "print(print_lyrics())"
   ]
  },
  {
   "cell_type": "code",
   "execution_count": null,
   "id": "7ab6b127-b607-4685-84e4-2bbe5c7ccf10",
   "metadata": {},
   "outputs": [],
   "source": [
    "print_lyrics()"
   ]
  },
  {
   "cell_type": "code",
   "execution_count": null,
   "id": "b837655f-292f-4d44-ae53-5a627528a176",
   "metadata": {},
   "outputs": [],
   "source": [
    "type(None)"
   ]
  },
  {
   "cell_type": "code",
   "execution_count": null,
   "id": "820eb238-0306-4805-b879-5000836aedbc",
   "metadata": {},
   "outputs": [],
   "source": [
    "def right_justify(monty):\n",
    "    print(\" \" * (70 - len(monty)) + monty)"
   ]
  },
  {
   "cell_type": "code",
   "execution_count": null,
   "id": "1ac5eb2c-0949-4b70-98bd-de9d9052d3ce",
   "metadata": {},
   "outputs": [],
   "source": [
    "right_justify('apple')"
   ]
  },
  {
   "cell_type": "code",
   "execution_count": null,
   "id": "05e14a96-56b4-4188-b25c-6ebe926b908d",
   "metadata": {},
   "outputs": [],
   "source": [
    "right_justify(apple)"
   ]
  },
  {
   "cell_type": "code",
   "execution_count": null,
   "id": "9f8cb4db-4017-4c5c-abf3-a3472c0d6b68",
   "metadata": {},
   "outputs": [],
   "source": [
    "apple='apple';"
   ]
  },
  {
   "cell_type": "code",
   "execution_count": null,
   "id": "df065506-64d7-40f7-8098-9c4a4056347d",
   "metadata": {},
   "outputs": [],
   "source": [
    "right_justify(apple)\n",
    "game = 'snake and ladders'\n",
    "right_justify(game)"
   ]
  },
  {
   "cell_type": "code",
   "execution_count": null,
   "id": "1fc9568b-0a24-4da5-98e6-c639fd717088",
   "metadata": {},
   "outputs": [],
   "source": [
    "right_justify(snake and ladders)"
   ]
  },
  {
   "cell_type": "code",
   "execution_count": null,
   "id": "f1057b80-d349-45cb-9863-6157d4efc4a9",
   "metadata": {},
   "outputs": [],
   "source": [
    "right_justify(game)"
   ]
  },
  {
   "cell_type": "code",
   "execution_count": null,
   "id": "77eee5d2-fae2-405e-895d-79b65f59b103",
   "metadata": {},
   "outputs": [],
   "source": [
    "def do_twice(f):\n",
    "    f();\n",
    "    f();\n",
    "\n",
    "def print_spam():\n",
    "    print('spam');\n",
    "\n",
    "do_twice(print_spam)"
   ]
  },
  {
   "cell_type": "code",
   "execution_count": null,
   "id": "9338b62c-3c9d-4f99-a97b-d1ce721b8f78",
   "metadata": {},
   "outputs": [],
   "source": [
    "def draw_grid():\n",
    "    print('+','-','-','-','-',end = \" \");\n",
    "    print('+','-','-','-','-','+');\n",
    "    print('|',(\"  \" *4),'|',(\" \" *4),'|');\n",
    "    print('|',(\"  \" *4),'|',(\" \" *4),'|');\n",
    "    print('|',(\"  \" *4),'|',(\" \" *4),'|');\n",
    "    print('|',(\"  \" *4),'|',(\" \" *4),'|');\n",
    "    print('+','-','-','-','-',end = \" \");\n",
    "    print('+','-','-','-','-','+');\n",
    "    print('|',(\"  \" *4),'|',(\" \" *4),'|');\n",
    "    print('|',(\"  \" *4),'|',(\" \" *4),'|');\n",
    "    print('|',(\"  \" *4),'|',(\" \" *4),'|');\n",
    "    print('|',(\"  \" *4),'|',(\" \" *4),'|');\n",
    "    print('+','-','-','-','-',end = \" \");\n",
    "    print('+','-','-','-','-','+');\n",
    "\n",
    "draw_grid()"
   ]
  },
  {
   "cell_type": "code",
   "execution_count": null,
   "id": "083409ef-9b6c-49dd-911a-57b00e9ac6d6",
   "metadata": {},
   "outputs": [],
   "source": [
    "def do_twice(func,arg):\n",
    "    func(arg);\n",
    "    func(arg);\n",
    "def print_twice(arg):\n",
    "    print(arg);\n",
    "    print(arg);\n",
    "def do_four(func,arg):\n",
    "    do_twice(func,arg);\n",
    "    do_twice(func,arg);\n",
    "do_twice(print,'spam')\n",
    "print('')\n",
    "do_four(print,'spam')"
   ]
  },
  {
   "cell_type": "code",
   "execution_count": null,
   "id": "d820c630-f6b8-4a42-b86c-b281afeae307",
   "metadata": {},
   "outputs": [],
   "source": [
    "def do_twice(f):\n",
    "    f()\n",
    "    f()\n",
    "\n",
    "def do_four(f):\n",
    "    do_twice(f)\n",
    "    do_twice(f)\n",
    "\n",
    "def print_beam():\n",
    "    print('+ - - - -', end=' ')\n",
    "\n",
    "def print_post():\n",
    "    print('|        ', end=' ')\n",
    "\n",
    "def print_beams():\n",
    "    do_twice(print_beam)\n",
    "    print('+')\n",
    "\n",
    "def print_posts():\n",
    "    do_twice(print_post)\n",
    "    print('|')\n",
    "def print_row():\n",
    "    print_beams()\n",
    "    do_four(print_posts)\n",
    "\n",
    "def print_grid():\n",
    "    do_twice(print_row)\n",
    "    print_beams()\n",
    "\n",
    "print_grid()"
   ]
  },
  {
   "cell_type": "code",
   "execution_count": null,
   "id": "de34abbc-be5f-42d2-b57e-36dc88a93b09",
   "metadata": {},
   "outputs": [],
   "source": [
    "import turtle\n",
    "bob=turtle.Turtle()\n",
    "#bob.fd(100)\n",
    "#bob.lt(90)\n",
    "#bob.fd(100)\n",
    "for i in range(4):\n",
    "    bob.fd(100)\n",
    "    bob.lt(90)\n",
    "print(bob)\n",
    "turtle.mainloop()"
   ]
  },
  {
   "cell_type": "code",
   "execution_count": null,
   "id": "c8297f16-4be8-47d1-93ea-4034f731aac8",
   "metadata": {},
   "outputs": [],
   "source": [
    "import math\n",
    "import turtle\n",
    "\n",
    "\n",
    "def square(t, length):\n",
    "    \"\"\"Draws a square with sides of the given length.\n",
    "\n",
    "    Returns the Turtle to the starting position and location.\n",
    "    \"\"\"\n",
    "    for i in range(4):\n",
    "        t.fd(length)\n",
    "        t.lt(90)\n",
    "\n",
    "for i in range(4):\n",
    "    print(\"hello there\");\n",
    "print(i)"
   ]
  },
  {
   "cell_type": "code",
   "execution_count": null,
   "id": "c8a57bb0-e0b0-48f2-9927-36cc0b8995b5",
   "metadata": {},
   "outputs": [],
   "source": [
    "print (i)"
   ]
  },
  {
   "cell_type": "code",
   "execution_count": null,
   "id": "b499492d-9022-4dbe-96a3-c4a8c163e6f4",
   "metadata": {},
   "outputs": [],
   "source": [
    "import math\n",
    "import turtle\n",
    "#t=turtle.Turtle()\n",
    "def square(t,length):\n",
    "    for i in range(4):\n",
    "        t.fd(length);\n",
    "        t.lt(90);\n",
    "#print(square(t,5))\n",
    "turtle.mainloop()"
   ]
  },
  {
   "cell_type": "code",
   "execution_count": null,
   "id": "52ab05df-1d63-467f-afa2-61cd286cacaa",
   "metadata": {},
   "outputs": [],
   "source": [
    "def polyline(t, n, length, angle):\n",
    "    \"\"\"Draws n line segments.\n",
    "\n",
    "    t: Turtle object\n",
    "    n: number of line segments\n",
    "    length: length of each segment\n",
    "    angle: degrees between segments\n",
    "    \"\"\"\n",
    "    for i in range(n):\n",
    "        t.fd(length)\n",
    "        t.lt(angle)\n",
    "\n",
    "\n",
    "def polygon(t, n, length):\n",
    "    \"\"\"Draws a polygon with n sides.\n",
    "\n",
    "    t: Turtle\n",
    "    n: number of sides\n",
    "    length: length of each side.\n",
    "    \"\"\"\n",
    "    angle = 360.0/n\n",
    "    polyline(t, n, length, angle)\n",
    "\n",
    "\n",
    "def arc(t, r, angle):\n",
    "    \"\"\"Draws an arc with the given radius and angle.\n",
    "\n",
    "    t: Turtle\n",
    "    r: radius\n",
    "    angle: angle subtended by the arc, in degrees\n",
    "    \"\"\"\n",
    "    arc_length = 2 * math.pi * r * abs(angle) / 360\n",
    "    n = int(arc_length / 4) + 3\n",
    "    step_length = arc_length / n\n",
    "    step_angle = float(angle) / n\n",
    "\n",
    "    # making a slight left turn before starting reduces\n",
    "    # the error caused by the linear approximation of the arc\n",
    "    t.lt(step_angle/2)\n",
    "    polyline(t, n, step_length, step_angle)\n",
    "    t.rt(step_angle/2)\n",
    "\n",
    "\n",
    "def circle(t, r):\n",
    "    \"\"\"Draws a circle with the given radius.\n",
    "\n",
    "    t: Turtle\n",
    "    r: radius\n",
    "    \"\"\"\n",
    "    arc(t, r, 360)\n",
    "\n",
    "\n",
    "# the following condition checks whether we are\n",
    "# running as a script, in which case run the test code,\n",
    "# or being imported, in which case don't.\n",
    "\n",
    "if __name__ == '__main__':\n",
    "    bob = turtle.Turtle()\n",
    "\n",
    "    # draw a circle centered on the origin\n",
    "    radius = 100\n",
    "    bob.pu()\n",
    "    bob.fd(radius)\n",
    "    bob.lt(90)\n",
    "    bob.pd()\n",
    "    circle(bob, radius)\n",
    "\n",
    "    # wait for the user to close the window\n",
    "    turtle.mainloop()"
   ]
  },
  {
   "cell_type": "code",
   "execution_count": null,
   "id": "019c7c94-b293-4615-b02b-aa6de56e7cab",
   "metadata": {},
   "outputs": [],
   "source": [
    "import math\n",
    "import turtle\n",
    "def square(t,length):\n",
    "    for i in range(4):\n",
    "        t.fd(100)\n",
    "        t.lt(90)\n",
    "def polyline(t,n,length,angle):\n",
    "    for i in range(n):\n",
    "        t.fd(length)\n",
    "        t.lt(angle)\n",
    "def polygon(t,n,length):\n",
    "    angle = 360.0/n\n",
    "    polyline(t,n,length,angle)\n",
    "def arc(t,r,angle):\n",
    "    arc_length = 2 * math.pi * r * abs(angle) / 360\n",
    "    n = int(arc_length / 4) + 3\n",
    "    step_length = arc_length / n\n",
    "    step_angle = float(angle) / n\n",
    "    t.lt(step_angle/2)\n",
    "    polyline(t, n, step_length, step_angle)\n",
    "    t.rt(step_angle/2)\n",
    "def circle(t,r):\n",
    "    arc(t,r,360)\n",
    "if __name__ == '__main__':\n",
    "    bob = turtle.Turtle()\n",
    "    radius = 100\n",
    "    bob.pu()\n",
    "    bob.fd(radius)\n",
    "    bob.lt(90)\n",
    "    bob.pd()\n",
    "    circle(bob, radius)\n",
    "\n",
    "    # wait for the user to close the window\n",
    "    turtle.mainloop()"
   ]
  },
  {
   "cell_type": "code",
   "execution_count": null,
   "id": "5e90880b-a325-46b6-a4d6-ea54f25f9683",
   "metadata": {},
   "outputs": [],
   "source": [
    "import turtle\n",
    "bob=turtle.Turtle()\n",
    "def square(t):\n",
    "    for i in range(4):\n",
    "        t.fd(100)\n",
    "        t.lt(90)\n",
    "square(bob)"
   ]
  },
  {
   "cell_type": "code",
   "execution_count": null,
   "id": "27919a16-e36f-4470-b857-212296e66c57",
   "metadata": {},
   "outputs": [],
   "source": [
    "import turtle\n",
    "bob=turtle.Turtle()\n",
    "\n",
    "def polygon(t,n,length):\n",
    "    angle=360.0/n\n",
    "    t.fd(length)\n",
    "    t.lt(angle)\n",
    "polygon(bob,5,5)"
   ]
  },
  {
   "cell_type": "code",
   "execution_count": null,
   "id": "b1a793cd-9598-4b94-9741-f99f0cc76093",
   "metadata": {},
   "outputs": [],
   "source": [
    "import turtle\n",
    "bob=turtle.Turtle()\n",
    "def square(t,length):\n",
    "    for i in range(4):\n",
    "        t.fd(length)\n",
    "        t.lt(90)\n",
    "square(bob,100)"
   ]
  },
  {
   "cell_type": "code",
   "execution_count": null,
   "id": "fceebf3c-b922-4f3b-b29c-335a335b0514",
   "metadata": {},
   "outputs": [],
   "source": [
    "import turtle\n",
    "bob=turtle.Turtle()\n",
    "def polyline(t,n,length,angle):\n",
    "    for i in range(n):\n",
    "        t.fd(length)\n",
    "        t.lt(angle)\n",
    "polyline(bob,6,100,60)"
   ]
  },
  {
   "cell_type": "code",
   "execution_count": null,
   "id": "f6665213-8dfc-4e83-acb7-b4fb8a112120",
   "metadata": {},
   "outputs": [],
   "source": [
    "def countdown(n):\n",
    "    if n<=0:\n",
    "        print(\"happy new year!\")\n",
    "    else:\n",
    "        print (n)\n",
    "        countdown(n-1)\n",
    "countdown(5)"
   ]
  },
  {
   "cell_type": "code",
   "execution_count": 3,
   "id": "f94abe85-f0e3-4d5b-b977-827d5c741da0",
   "metadata": {},
   "outputs": [
    {
     "name": "stdout",
     "output_type": "stream",
     "text": [
      "apple\n",
      "apple\n",
      "apple\n"
     ]
    }
   ],
   "source": [
    "def print_n(s,n):\n",
    "    if n<=0:\n",
    "        return\n",
    "    \n",
    "    print(s)\n",
    "    print_n(s,n-1)\n",
    "print_n('apple',3)"
   ]
  },
  {
   "cell_type": "code",
   "execution_count": null,
   "id": "8469b33f-0f2b-4eba-a572-a845e1f5f642",
   "metadata": {},
   "outputs": [],
   "source": [
    "NAME = input(\"what is your name:?\")\n",
    "\n"
   ]
  },
  {
   "cell_type": "code",
   "execution_count": null,
   "id": "4f75c3a1-c6f8-48ad-b4d4-5f7d85dc3b8e",
   "metadata": {},
   "outputs": [],
   "source": [
    "NAME"
   ]
  },
  {
   "cell_type": "code",
   "execution_count": null,
   "id": "47638aea-067c-45b1-8257-2a3b2d661fb8",
   "metadata": {},
   "outputs": [],
   "source": [
    "int(NAME)"
   ]
  },
  {
   "cell_type": "code",
   "execution_count": null,
   "id": "dcc790e3-9bb7-41f3-a043-62b5d9ec26b1",
   "metadata": {},
   "outputs": [],
   "source": [
    "import time\n",
    "help(time)"
   ]
  },
  {
   "cell_type": "code",
   "execution_count": null,
   "id": "2aa6dbe7-fea8-46eb-8f9e-0a28da9d7bd3",
   "metadata": {},
   "outputs": [],
   "source": [
    "#word='apple'\n",
    "def find(word,letter):\n",
    "    index=0\n",
    "    while index<len(word):\n",
    "        if word[index]==letter:\n",
    "            return index\n",
    "        index=index+1\n",
    "    return -1\n",
    "find('apple','z')"
   ]
  },
  {
   "cell_type": "code",
   "execution_count": null,
   "id": "bf2486a6-70d8-4b23-8729-ca4b2d23caa3",
   "metadata": {},
   "outputs": [],
   "source": [
    "def any_lowercase1(s):\n",
    "    for c in s:\n",
    "        if c.islower():\n",
    "            return True\n",
    "        else:\n",
    "            return False\n",
    "any_lowercase1('APPles')"
   ]
  },
  {
   "cell_type": "code",
   "execution_count": null,
   "id": "12cec339-4818-4151-b57b-593ed0b9087b",
   "metadata": {},
   "outputs": [],
   "source": [
    "cheeses = ['dn','dked','edkmekm']\n",
    "numbers = [23,67,89,55]\n",
    "empty=[]\n",
    "print(cheeses,num)"
   ]
  },
  {
   "cell_type": "code",
   "execution_count": null,
   "id": "2435f15e-2e7e-41f9-848b-205dae37fc16",
   "metadata": {},
   "outputs": [],
   "source": [
    "tuple_data=(3,45,67,\"apple\",None,True,[1,3,4,5],(34,56))"
   ]
  },
  {
   "cell_type": "code",
   "execution_count": null,
   "id": "6ff08f2a-b709-4aec-87ef-38ad80d8cee4",
   "metadata": {},
   "outputs": [],
   "source": [
    "tuple_data"
   ]
  },
  {
   "cell_type": "code",
   "execution_count": null,
   "id": "5adfea19-881a-44d7-a248-3f73e12114dd",
   "metadata": {},
   "outputs": [],
   "source": [
    "tuple_data[2]"
   ]
  },
  {
   "cell_type": "code",
   "execution_count": null,
   "id": "5d4bf686-9a1a-4807-a863-38959da8c138",
   "metadata": {},
   "outputs": [],
   "source": [
    "tuple_data[:6]"
   ]
  },
  {
   "cell_type": "code",
   "execution_count": null,
   "id": "ea8c4df8-eb11-41a1-b24a-7b0bb4fef042",
   "metadata": {},
   "outputs": [],
   "source": [
    "tuple_data[:[6,2]]"
   ]
  },
  {
   "cell_type": "code",
   "execution_count": null,
   "id": "5ace5cf9-f20f-4c1d-8231-6f433498c568",
   "metadata": {},
   "outputs": [],
   "source": [
    "tuple_data[6][3]"
   ]
  },
  {
   "cell_type": "code",
   "execution_count": null,
   "id": "1d86470a-eda5-4def-8c4f-8a6a16141ed4",
   "metadata": {},
   "outputs": [],
   "source": [
    "tuple_=10,20,30,40,67,\"tuple\",\"apple\"\n",
    "tuple_[2:5]"
   ]
  },
  {
   "cell_type": "code",
   "execution_count": null,
   "id": "4378627f-1466-427a-a557-9c7567122af6",
   "metadata": {},
   "outputs": [],
   "source": [
    "tuple_[0:3]"
   ]
  },
  {
   "cell_type": "code",
   "execution_count": null,
   "id": "57a031a0-c0d9-4163-8f67-1fe505e54543",
   "metadata": {},
   "outputs": [],
   "source": [
    "tuple_[-1:-5]"
   ]
  },
  {
   "cell_type": "code",
   "execution_count": null,
   "id": "1de1a425-049f-413e-abb0-87551203c81b",
   "metadata": {},
   "outputs": [],
   "source": [
    "tuple_[-1:4]"
   ]
  },
  {
   "cell_type": "code",
   "execution_count": null,
   "id": "a6c8add0-ae2e-4c59-affa-b0d8ad045421",
   "metadata": {},
   "outputs": [],
   "source": [
    "tuple_[-3:]"
   ]
  },
  {
   "cell_type": "code",
   "execution_count": null,
   "id": "6adf35b8-afa8-439b-8234-82b7ac498989",
   "metadata": {},
   "outputs": [],
   "source": [
    "tuple_"
   ]
  },
  {
   "cell_type": "code",
   "execution_count": null,
   "id": "60e1fe0e-47f9-4f0f-beea-80e774aeed75",
   "metadata": {},
   "outputs": [],
   "source": [
    "tuple_[-6:-3]"
   ]
  },
  {
   "cell_type": "code",
   "execution_count": null,
   "id": "e81b8676-f9d5-4846-98ad-1bc595ca1767",
   "metadata": {},
   "outputs": [],
   "source": [
    "help(tuple)"
   ]
  },
  {
   "cell_type": "code",
   "execution_count": null,
   "id": "1e06d3f1-505c-4741-a9b3-993d4e4af421",
   "metadata": {},
   "outputs": [],
   "source": [
    "tup=('a',45,67,45,67,67,89,23,23,4,4,4,4,56,7,8)"
   ]
  },
  {
   "cell_type": "code",
   "execution_count": null,
   "id": "d5cf40ab-fe00-4901-91c1-46c526cfd11a",
   "metadata": {},
   "outputs": [],
   "source": [
    "tup.count('a')"
   ]
  },
  {
   "cell_type": "code",
   "execution_count": null,
   "id": "c1ef4a1f-c5b8-490a-b210-fb42f8cfb46e",
   "metadata": {},
   "outputs": [],
   "source": [
    "tup.index(4)"
   ]
  },
  {
   "cell_type": "code",
   "execution_count": null,
   "id": "88904c7b-4cd3-4946-9e4c-f11c7cd64307",
   "metadata": {},
   "outputs": [],
   "source": [
    "tup.index(4,10,13)"
   ]
  },
  {
   "cell_type": "code",
   "execution_count": null,
   "id": "5dcf9bdf-1620-449f-864c-9a2197ad1547",
   "metadata": {},
   "outputs": [],
   "source": [
    "tup(4,10,12)"
   ]
  },
  {
   "cell_type": "code",
   "execution_count": null,
   "id": "6cc13031-9f24-4240-ad22-e4ec670ca24e",
   "metadata": {},
   "outputs": [],
   "source": [
    "tup[4]=100"
   ]
  },
  {
   "cell_type": "code",
   "execution_count": null,
   "id": "1a582d26-fad8-4b4a-94a6-60bc20f49bfc",
   "metadata": {},
   "outputs": [],
   "source": [
    "def sumall(*args):\n",
    "    return sum(args)\n",
    "sumall(2,4,5,9)"
   ]
  },
  {
   "cell_type": "code",
   "execution_count": null,
   "id": "dc93f978-035f-49b3-9b66-c59d227e1077",
   "metadata": {},
   "outputs": [],
   "source": [
    "tup[::-1]"
   ]
  },
  {
   "cell_type": "code",
   "execution_count": null,
   "id": "f0eabfdc-fd2e-4188-97ed-3158d1f3239f",
   "metadata": {},
   "outputs": [],
   "source": [
    "lis=[34,67,8,4,2,2123,756]\n",
    "lis.reverse()"
   ]
  },
  {
   "cell_type": "code",
   "execution_count": null,
   "id": "1504018e-be34-4880-93d0-3a33b3452221",
   "metadata": {},
   "outputs": [],
   "source": [
    "lis"
   ]
  },
  {
   "cell_type": "markdown",
   "id": "1039b020-af86-442c-856f-8bb0d0c4d8f8",
   "metadata": {},
   "source": [
    "SETS\n"
   ]
  },
  {
   "cell_type": "code",
   "execution_count": null,
   "id": "cd19309a-a89c-4af7-a5be-c12a56ce4fdd",
   "metadata": {},
   "outputs": [],
   "source": [
    "sets={34,56,78,46,5040,5040,5040,67,3,2,8,9,100}"
   ]
  },
  {
   "cell_type": "code",
   "execution_count": null,
   "id": "2f033bb5-defd-4152-a184-edf788846733",
   "metadata": {},
   "outputs": [],
   "source": [
    "sets"
   ]
  },
  {
   "cell_type": "code",
   "execution_count": null,
   "id": "d5b87b1e-6654-43ff-9424-f2bb1e27ab74",
   "metadata": {},
   "outputs": [],
   "source": [
    "sets_1={}"
   ]
  },
  {
   "cell_type": "code",
   "execution_count": null,
   "id": "b5d643e8-d5d9-4bf6-8d21-10471063bb55",
   "metadata": {},
   "outputs": [],
   "source": [
    "sets_1"
   ]
  },
  {
   "cell_type": "code",
   "execution_count": null,
   "id": "a15b0cb4-4353-42b5-affd-4e538e2b2f6d",
   "metadata": {},
   "outputs": [],
   "source": [
    "type(sets_1)"
   ]
  },
  {
   "cell_type": "code",
   "execution_count": null,
   "id": "bea71c60-a839-4e5a-8a9e-966ca009681c",
   "metadata": {},
   "outputs": [],
   "source": [
    "set_1={102,30,405,60,70,\"apple\",\"abc\",\"xyz\"}\n",
    "set_1.add(50)"
   ]
  },
  {
   "cell_type": "code",
   "execution_count": null,
   "id": "57f51f15-151f-4dcd-b4ca-04ff59ad7a9f",
   "metadata": {},
   "outputs": [],
   "source": [
    "set_1"
   ]
  },
  {
   "cell_type": "code",
   "execution_count": null,
   "id": "30bbea4a-ed98-4527-bb1e-c86a01ab04e1",
   "metadata": {},
   "outputs": [],
   "source": [
    "set_1.remove(60)"
   ]
  },
  {
   "cell_type": "code",
   "execution_count": null,
   "id": "6f46dd23-823c-4d55-9145-2ead21ca0ab5",
   "metadata": {},
   "outputs": [],
   "source": [
    "set_1"
   ]
  },
  {
   "cell_type": "code",
   "execution_count": null,
   "id": "767a9fc3-ce02-4c47-b712-ce8d152bbba8",
   "metadata": {},
   "outputs": [],
   "source": [
    "help(set)"
   ]
  },
  {
   "cell_type": "code",
   "execution_count": null,
   "id": "ed63f8f9-040d-4b7f-ac3f-5dffbf414490",
   "metadata": {},
   "outputs": [],
   "source": [
    "lis"
   ]
  },
  {
   "cell_type": "code",
   "execution_count": null,
   "id": "e15dcdf9-1f5a-4674-acf1-018c06377be2",
   "metadata": {},
   "outputs": [],
   "source": [
    "lis1=[1,4,578,56,45]\n",
    "lis2=[56,45,24,7,78,6]\n",
    "lis1+lis2"
   ]
  },
  {
   "cell_type": "code",
   "execution_count": null,
   "id": "0874ebd6-7149-4ecf-b92e-71466e4d8e81",
   "metadata": {},
   "outputs": [],
   "source": [
    "set_2={1000,2000,3000}"
   ]
  },
  {
   "cell_type": "code",
   "execution_count": null,
   "id": "151b5acb-3e12-452a-8b76-e0e432465e0d",
   "metadata": {},
   "outputs": [],
   "source": [
    "set_1.union(set_2)"
   ]
  },
  {
   "cell_type": "code",
   "execution_count": null,
   "id": "1bf05c27-ec60-4391-ba80-02c83f32a7bd",
   "metadata": {},
   "outputs": [],
   "source": [
    "set_1.intersection(set_2)"
   ]
  },
  {
   "cell_type": "raw",
   "id": "45b2c66f-aca3-4dde-a88e-68592ef0fb56",
   "metadata": {},
   "source": [
    "Dictionary\n"
   ]
  },
  {
   "cell_type": "code",
   "execution_count": null,
   "id": "ee2daadb-77e3-474f-a8f3-0b18b1d675a9",
   "metadata": {},
   "outputs": [],
   "source": [
    "dict_e={}\n",
    "type(dict_e)"
   ]
  },
  {
   "cell_type": "code",
   "execution_count": null,
   "id": "ad20ff96-c84d-40ba-9b86-b502125099f6",
   "metadata": {},
   "outputs": [],
   "source": [
    "d1={\"name\":\"python\",\"age\":50,\"subject\":\"programming\"}"
   ]
  },
  {
   "cell_type": "code",
   "execution_count": null,
   "id": "316cfd96-900e-4e38-9c7b-b232ef840cb6",
   "metadata": {},
   "outputs": [],
   "source": [
    "d1"
   ]
  },
  {
   "cell_type": "code",
   "execution_count": null,
   "id": "58c56b2a-7d10-4729-b857-955e2fa2ed9b",
   "metadata": {},
   "outputs": [],
   "source": [
    "d1[\"subject\"]"
   ]
  },
  {
   "cell_type": "code",
   "execution_count": null,
   "id": "7e45a144-236b-4049-834e-53c0ce5f0d56",
   "metadata": {},
   "outputs": [],
   "source": [
    "d1[\"hobby\"]=\"noidea\""
   ]
  },
  {
   "cell_type": "code",
   "execution_count": null,
   "id": "857b874c-4b1d-4c49-8bb9-3b2094e19676",
   "metadata": {},
   "outputs": [],
   "source": [
    "d1"
   ]
  },
  {
   "cell_type": "code",
   "execution_count": null,
   "id": "d340a34f-1772-456f-886c-95f2ebc1d06a",
   "metadata": {},
   "outputs": [],
   "source": [
    "d1[\"age\"]=60"
   ]
  },
  {
   "cell_type": "code",
   "execution_count": null,
   "id": "09ba1d25-997f-45c6-a453-fca9e3c0e227",
   "metadata": {},
   "outputs": [],
   "source": [
    "d1"
   ]
  },
  {
   "cell_type": "code",
   "execution_count": null,
   "id": "f2056f63-57aa-4403-9d16-f74505781e2f",
   "metadata": {},
   "outputs": [],
   "source": [
    "d={\"xyz\":\"50\",(10,20):\"abc\"}"
   ]
  },
  {
   "cell_type": "code",
   "execution_count": null,
   "id": "b77d7a21-1dac-4eba-9fb5-94f863f4c361",
   "metadata": {},
   "outputs": [],
   "source": [
    "d"
   ]
  },
  {
   "cell_type": "code",
   "execution_count": null,
   "id": "03922da5-fd45-49a1-add1-d563229f2c70",
   "metadata": {},
   "outputs": [],
   "source": [
    "d[(10,20)]"
   ]
  },
  {
   "cell_type": "code",
   "execution_count": null,
   "id": "b9d388ec-92f2-4fe2-8844-b2f31ad59dce",
   "metadata": {},
   "outputs": [],
   "source": [
    "d1[\"subject\"]=\"noidea\""
   ]
  },
  {
   "cell_type": "code",
   "execution_count": null,
   "id": "5761cca8-915c-49c8-bbbf-307b23e22cb5",
   "metadata": {},
   "outputs": [],
   "source": [
    "d1"
   ]
  },
  {
   "cell_type": "code",
   "execution_count": null,
   "id": "0ff9b68c-77b8-4b47-950e-b06fc0a88a46",
   "metadata": {},
   "outputs": [],
   "source": [
    "help(dict)"
   ]
  },
  {
   "cell_type": "code",
   "execution_count": null,
   "id": "61e4fb40-7872-4d57-8db0-ae39b0da8d91",
   "metadata": {},
   "outputs": [],
   "source": [
    "d1.keys()"
   ]
  },
  {
   "cell_type": "code",
   "execution_count": null,
   "id": "e047d045-6348-4fa3-92d3-f9518ed25b4e",
   "metadata": {},
   "outputs": [],
   "source": [
    "d1.values()"
   ]
  },
  {
   "cell_type": "code",
   "execution_count": null,
   "id": "e4565307-e5fe-45f5-ab65-1ae601b67219",
   "metadata": {},
   "outputs": [],
   "source": [
    "d1.items()"
   ]
  },
  {
   "cell_type": "markdown",
   "id": "d300f2b7-77d8-4ce9-bf50-0e6cde691d69",
   "metadata": {},
   "source": [
    "LIST COMPREHENSION\n"
   ]
  },
  {
   "cell_type": "code",
   "execution_count": null,
   "id": "be110d45-00ce-4943-9bc7-28191de25afe",
   "metadata": {},
   "outputs": [],
   "source": [
    "l1=[10,20,304,50,60]\n",
    "#print the square of each element in the list and print the squares in another list\n",
    "lo=[]\n",
    "for i in l1:\n",
    "    z=i**2\n",
    "    lo.append(z)\n",
    "print(lo)"
   ]
  },
  {
   "cell_type": "code",
   "execution_count": null,
   "id": "49a54154-5db4-4255-a696-553c8e1ae3d9",
   "metadata": {},
   "outputs": [],
   "source": [
    "#comprehensions are for non-primitive data types.\n",
    "#they cant be performed in tuples and sets coz they are immutable."
   ]
  },
  {
   "cell_type": "code",
   "execution_count": null,
   "id": "15050e98-b5ac-48f2-965e-0200f21b28be",
   "metadata": {},
   "outputs": [],
   "source": [
    "#comprehension in pyhton is a concise way to create a list or dict based on existing iterable object"
   ]
  },
  {
   "cell_type": "code",
   "execution_count": null,
   "id": "5fbc3572-6ef5-463e-b004-cac481f46f06",
   "metadata": {},
   "outputs": [],
   "source": [
    "lnat=[i for i in range(10)]\n",
    "lnat"
   ]
  },
  {
   "cell_type": "code",
   "execution_count": null,
   "id": "b00da3b3-2886-4393-b608-e6a5857fc196",
   "metadata": {},
   "outputs": [],
   "source": [
    "even=[i for i in range(5,13) if (i%2==0)]\n",
    "even"
   ]
  },
  {
   "cell_type": "code",
   "execution_count": null,
   "id": "3c268afb-5a99-4f2b-b7a4-72d272a45213",
   "metadata": {},
   "outputs": [],
   "source": [
    "#print even in place of even num and odd in place of odd num in the list\n",
    "eveodd=[\"EVEN\" if i%2==0 else \"ODD\" for i in range(1,13)]\n",
    "eveodd\n"
   ]
  },
  {
   "cell_type": "code",
   "execution_count": null,
   "id": "9e5ba325-bd2e-4a39-aa12-339a245cbc49",
   "metadata": {},
   "outputs": [],
   "source": [
    "#check if last aplphabet of the string present inside list is \"a\" or not\n",
    "#if true print \"a\" else print that string\n",
    "l=[\"banana\",\"guava\",\"apple\",\"dragon\"]"
   ]
  },
  {
   "cell_type": "code",
   "execution_count": null,
   "id": "8493c854-cde4-4116-a639-5b0ce2f4c4b9",
   "metadata": {},
   "outputs": [],
   "source": [
    "a=[\"yes\" if i[-1]==\"a\" else i for i in l]\n",
    "a"
   ]
  },
  {
   "cell_type": "code",
   "execution_count": null,
   "id": "65064a57-7348-44ce-a617-7f6d52dc89f8",
   "metadata": {},
   "outputs": [],
   "source": [
    "help(list)"
   ]
  },
  {
   "cell_type": "code",
   "execution_count": null,
   "id": "4ec5ce2e-bbff-4e7e-960c-bb76e54e18d8",
   "metadata": {},
   "outputs": [],
   "source": [
    "help(zip)"
   ]
  },
  {
   "cell_type": "raw",
   "id": "f2b1d0b7-7ac7-45cc-89d7-4ebffe80f126",
   "metadata": {},
   "source": [
    "l1=[2,3,4,5,6]\n",
    "l2=[2,4,10,5,8]\n",
    "print the product of elements in l1 and l2 in same index position and retuen a new list which contains the product ofe each elemts from both lists."
   ]
  },
  {
   "cell_type": "code",
   "execution_count": null,
   "id": "152684b5-e6f8-43f5-aef9-60ad8fd03ad3",
   "metadata": {},
   "outputs": [],
   "source": [
    "l1=[2,3,4,5,6]\n",
    "l2=[2,4,10,5,8]\n",
    "zip(l1,l2)\n",
    "lnew=[]\n",
    "for x,y in zip(l1,l2):\n",
    "    z=x*y\n",
    "    lnew.append(z)\n",
    "lnew\n",
    "    "
   ]
  },
  {
   "cell_type": "code",
   "execution_count": null,
   "id": "8ae08c03-804a-494e-8e29-582b951506cf",
   "metadata": {},
   "outputs": [],
   "source": [
    "l1=[2,3,4,5,6]\n",
    "l2=[2,4,10,5,8]\n",
    "lnew=[x*y for x,y in zip(l1,l2)]\n",
    "lnew"
   ]
  },
  {
   "cell_type": "raw",
   "id": "5eabd5bb-efe8-4877-a84c-6118a2e365ea",
   "metadata": {},
   "source": [
    "DICT COMPREHENSION"
   ]
  },
  {
   "cell_type": "code",
   "execution_count": null,
   "id": "db7c7a5f-55e7-4375-bd48-de9ef1c75041",
   "metadata": {},
   "outputs": [],
   "source": [
    "l1=[2,3,4,5,6]\n",
    "#elements are keys and values are the squares og the respective key\n",
    "d={}\n",
    "for i in l1:\n",
    "    d[i]=i**2\n",
    "d"
   ]
  },
  {
   "cell_type": "code",
   "execution_count": null,
   "id": "ec31725a-979d-4de9-9b65-c5dd15606ecd",
   "metadata": {},
   "outputs": [],
   "source": [
    "given=[\"badminton\",\"basketball\",\"ko-ko\",\"dancing\"]\n",
    "output={i:i[-1] for i in given}\n",
    "output"
   ]
  },
  {
   "cell_type": "code",
   "execution_count": null,
   "id": "d0453013-b4c8-46d6-83c5-8fa681b0514c",
   "metadata": {},
   "outputs": [],
   "source": [
    "n=int(input(\"Enter the value of n: \"))\n",
    "l=[i for i in range(n+1)]\n",
    "print(l)\n",
    "d={i:i**3 for i in l if i<5}\n",
    "print(d)"
   ]
  },
  {
   "cell_type": "code",
   "execution_count": null,
   "id": "f4e047f5-456c-4f37-83ee-e65ce10e7e84",
   "metadata": {},
   "outputs": [],
   "source": [
    "s=\"dinosaurus\"\n",
    "d={c:1 if c not in d else (c:c+=1) for c in s}\n",
    "d"
   ]
  },
  {
   "cell_type": "code",
   "execution_count": null,
   "id": "b248f473-d0eb-4594-b0e0-a13ed44662d7",
   "metadata": {},
   "outputs": [],
   "source": [
    "s=str(input(\"Enter any name:\"))\n",
    "d="
   ]
  }
 ],
 "metadata": {
  "kernelspec": {
   "display_name": "Python 3 (ipykernel)",
   "language": "python",
   "name": "python3"
  },
  "language_info": {
   "codemirror_mode": {
    "name": "ipython",
    "version": 3
   },
   "file_extension": ".py",
   "mimetype": "text/x-python",
   "name": "python",
   "nbconvert_exporter": "python",
   "pygments_lexer": "ipython3",
   "version": "3.12.4"
  }
 },
 "nbformat": 4,
 "nbformat_minor": 5
}
